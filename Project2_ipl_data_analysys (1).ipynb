{
  "nbformat": 4,
  "nbformat_minor": 0,
  "metadata": {
    "colab": {
      "provenance": []
    },
    "kernelspec": {
      "name": "python3",
      "display_name": "Python 3"
    },
    "language_info": {
      "name": "python"
    }
  },
  "cells": [
    {
      "cell_type": "code",
      "execution_count": null,
      "metadata": {
        "id": "KTTTFvWspZL-"
      },
      "outputs": [],
      "source": [
        "import numpy as np\n",
        "\n",
        "#Seasons\n",
        "Seasons = [\"2010\",\"2011\",\"2012\",\"2013\",\"2014\",\"2015\",\"2016\",\"2017\",\"2018\",\"2019\"]\n",
        "Sdict = {\"2010\":0,\"2011\":1,\"2012\":2,\"2013\":3,\"2014\":4,\"2015\":5,\"2016\":6,\"2017\":7,\"2018\":8,\"2019\":9}\n",
        "\n",
        "#Players\n",
        "Players = [\"Sachin\",\"Rahul\",\"Smith\",\"Sami\",\"Pollard\",\"Morris\",\"Samson\",\"Dhoni\",\"Kohli\",\"Sky\"]\n",
        "Pdict = {\"Sachin\":0,\"Rahul\":1,\"Smith\":2,\"Sami\":3,\"Pollard\":4,\"Morris\":5,\"Samson\":6,\"Dhoni\":7,\"Kohli\":8,\"Sky\":9}\n",
        "\n",
        "#Salaries\n",
        "Sachin_Salary = [15946875,17718750,19490625,21262500,23034375,24806250,25244493,27849149,30453805,23500000]\n",
        "Rahul_Salary = [12000000,12744189,13488377,14232567,14976754,16324500,18038573,19752645,21466718,23180790]\n",
        "Smith_Salary = [4621800,5828090,13041250,14410581,15779912,14500000,16022500,17545000,19067500,20644400]\n",
        "Sami_Salary = [3713640,4694041,13041250,14410581,15779912,17149243,18518574,19450000,22407474,22458000]\n",
        "Pollard_Salary = [4493160,4806720,6061274,13758000,15202590,16647180,18091770,19536360,20513178,21436271]\n",
        "Morris_Salary = [3348000,4235220,12455000,14410581,15779912,14500000,16022500,17545000,19067500,20644400]\n",
        "Samson_Salary = [3144240,3380160,3615960,4574189,13520500,14940153,16359805,17779458,18668431,20068563]\n",
        "Dhoni_Salary = [0,0,4171200,4484040,4796880,6053663,15506632,16669630,17832627,18995624]\n",
        "Kohli_Salary = [0,0,0,4822800,5184480,5546160,6993708,16402500,17632688,18862875]\n",
        "Sky_Salary = [3031920,3841443,13041250,14410581,15779912,14200000,15691000,17182000,18673000,15000000]\n",
        "#Matrix\n",
        "Salary = np.array([Sachin_Salary, Rahul_Salary, Smith_Salary, Sami_Salary, Pollard_Salary, Morris_Salary, Samson_Salary, Dhoni_Salary, Kohli_Salary, Sky_Salary])\n",
        "\n",
        "#Games\n",
        "Sachin_G = [80,77,82,82,73,82,58,78,6,35]\n",
        "Rahul_G = [82,57,82,79,76,72,60,72,79,80]\n",
        "Smith_G = [79,78,75,81,76,79,62,76,77,69]\n",
        "Sami_G = [80,65,77,66,69,77,55,67,77,40]\n",
        "Pollard_G = [82,82,82,79,82,78,54,76,71,41]\n",
        "Morris_G = [70,69,67,77,70,77,57,74,79,44]\n",
        "Samson_G = [78,64,80,78,45,80,60,70,62,82]\n",
        "Dhoni_G = [35,35,80,74,82,78,66,81,81,27]\n",
        "Kohli_G = [40,40,40,81,78,81,39,0,10,51]\n",
        "Sky_G = [75,51,51,79,77,76,49,69,54,62]\n",
        "#Matrix\n",
        "Games = np.array([Sachin_G, Rahul_G, Smith_G, Sami_G, Pollard_G, Morris_G, Samson_G, Dhoni_G, Kohli_G, Sky_G])\n",
        "\n",
        "#Points\n",
        "Sachin_PTS = [2832,2430,2323,2201,1970,2078,1616,2133,83,782]\n",
        "Rahul_PTS = [1653,1426,1779,1688,1619,1312,1129,1170,1245,1154]\n",
        "Smith_PTS = [2478,2132,2250,2304,2258,2111,1683,2036,2089,1743]\n",
        "Sami_PTS = [2122,1881,1978,1504,1943,1970,1245,1920,2112,966]\n",
        "Pollard_PTS = [1292,1443,1695,1624,1503,1784,1113,1296,1297,646]\n",
        "Morris_PTS = [1572,1561,1496,1746,1678,1438,1025,1232,1281,928]\n",
        "Samson_PTS = [1258,1104,1684,1781,841,1268,1189,1186,1185,1564]\n",
        "Dhoni_PTS = [903,903,1624,1871,2472,2161,1850,2280,2593,686]\n",
        "Kohli_PTS = [597,597,597,1361,1619,2026,852,0,159,904]\n",
        "Sky_PTS = [2040,1397,1254,2386,2045,1941,1082,1463,1028,1331]\n",
        "#Matrix\n",
        "Points = np.array([Sachin_PTS, Rahul_PTS, Smith_PTS, Sami_PTS, Pollard_PTS, Morris_PTS, Samson_PTS, Dhoni_PTS, Kohli_PTS, Sky_PTS])\n",
        "\n"
      ]
    },
    {
      "cell_type": "code",
      "source": [
        "Salary"
      ],
      "metadata": {
        "colab": {
          "base_uri": "https://localhost:8080/"
        },
        "id": "_tZikXXvqLeD",
        "outputId": "4c2c630a-897a-4ce1-a814-3c4b431452d1"
      },
      "execution_count": null,
      "outputs": [
        {
          "output_type": "execute_result",
          "data": {
            "text/plain": [
              "array([[15946875, 17718750, 19490625, 21262500, 23034375, 24806250,\n",
              "        25244493, 27849149, 30453805, 23500000],\n",
              "       [12000000, 12744189, 13488377, 14232567, 14976754, 16324500,\n",
              "        18038573, 19752645, 21466718, 23180790],\n",
              "       [ 4621800,  5828090, 13041250, 14410581, 15779912, 14500000,\n",
              "        16022500, 17545000, 19067500, 20644400],\n",
              "       [ 3713640,  4694041, 13041250, 14410581, 15779912, 17149243,\n",
              "        18518574, 19450000, 22407474, 22458000],\n",
              "       [ 4493160,  4806720,  6061274, 13758000, 15202590, 16647180,\n",
              "        18091770, 19536360, 20513178, 21436271],\n",
              "       [ 3348000,  4235220, 12455000, 14410581, 15779912, 14500000,\n",
              "        16022500, 17545000, 19067500, 20644400],\n",
              "       [ 3144240,  3380160,  3615960,  4574189, 13520500, 14940153,\n",
              "        16359805, 17779458, 18668431, 20068563],\n",
              "       [       0,        0,  4171200,  4484040,  4796880,  6053663,\n",
              "        15506632, 16669630, 17832627, 18995624],\n",
              "       [       0,        0,        0,  4822800,  5184480,  5546160,\n",
              "         6993708, 16402500, 17632688, 18862875],\n",
              "       [ 3031920,  3841443, 13041250, 14410581, 15779912, 14200000,\n",
              "        15691000, 17182000, 18673000, 15000000]])"
            ]
          },
          "metadata": {},
          "execution_count": 10
        }
      ]
    },
    {
      "cell_type": "code",
      "source": [
        "Games"
      ],
      "metadata": {
        "colab": {
          "base_uri": "https://localhost:8080/"
        },
        "id": "-WtivX5zqlXU",
        "outputId": "62cb27d9-2581-46d4-e286-87f03945a45b"
      },
      "execution_count": null,
      "outputs": [
        {
          "output_type": "execute_result",
          "data": {
            "text/plain": [
              "array([[80, 77, 82, 82, 73, 82, 58, 78,  6, 35],\n",
              "       [82, 57, 82, 79, 76, 72, 60, 72, 79, 80],\n",
              "       [79, 78, 75, 81, 76, 79, 62, 76, 77, 69],\n",
              "       [80, 65, 77, 66, 69, 77, 55, 67, 77, 40],\n",
              "       [82, 82, 82, 79, 82, 78, 54, 76, 71, 41],\n",
              "       [70, 69, 67, 77, 70, 77, 57, 74, 79, 44],\n",
              "       [78, 64, 80, 78, 45, 80, 60, 70, 62, 82],\n",
              "       [35, 35, 80, 74, 82, 78, 66, 81, 81, 27],\n",
              "       [40, 40, 40, 81, 78, 81, 39,  0, 10, 51],\n",
              "       [75, 51, 51, 79, 77, 76, 49, 69, 54, 62]])"
            ]
          },
          "metadata": {},
          "execution_count": 11
        }
      ]
    },
    {
      "cell_type": "code",
      "source": [
        "Points"
      ],
      "metadata": {
        "colab": {
          "base_uri": "https://localhost:8080/"
        },
        "id": "JEh_6hb4q1sl",
        "outputId": "2d964f69-3f10-48b0-d640-dac3c8b24c5f"
      },
      "execution_count": null,
      "outputs": [
        {
          "output_type": "execute_result",
          "data": {
            "text/plain": [
              "array([[2832, 2430, 2323, 2201, 1970, 2078, 1616, 2133,   83,  782],\n",
              "       [1653, 1426, 1779, 1688, 1619, 1312, 1129, 1170, 1245, 1154],\n",
              "       [2478, 2132, 2250, 2304, 2258, 2111, 1683, 2036, 2089, 1743],\n",
              "       [2122, 1881, 1978, 1504, 1943, 1970, 1245, 1920, 2112,  966],\n",
              "       [1292, 1443, 1695, 1624, 1503, 1784, 1113, 1296, 1297,  646],\n",
              "       [1572, 1561, 1496, 1746, 1678, 1438, 1025, 1232, 1281,  928],\n",
              "       [1258, 1104, 1684, 1781,  841, 1268, 1189, 1186, 1185, 1564],\n",
              "       [ 903,  903, 1624, 1871, 2472, 2161, 1850, 2280, 2593,  686],\n",
              "       [ 597,  597,  597, 1361, 1619, 2026,  852,    0,  159,  904],\n",
              "       [2040, 1397, 1254, 2386, 2045, 1941, 1082, 1463, 1028, 1331]])"
            ]
          },
          "metadata": {},
          "execution_count": 12
        }
      ]
    },
    {
      "cell_type": "code",
      "source": [
        "Games[5]"
      ],
      "metadata": {
        "colab": {
          "base_uri": "https://localhost:8080/"
        },
        "id": "vu7TXO6yrEOZ",
        "outputId": "bb457295-69ea-4bef-97d7-b924630816a2"
      },
      "execution_count": null,
      "outputs": [
        {
          "output_type": "execute_result",
          "data": {
            "text/plain": [
              "array([70, 69, 67, 77, 70, 77, 57, 74, 79, 44])"
            ]
          },
          "metadata": {},
          "execution_count": 13
        }
      ]
    },
    {
      "cell_type": "code",
      "source": [
        "Games[0:5]     #first five player Games"
      ],
      "metadata": {
        "colab": {
          "base_uri": "https://localhost:8080/"
        },
        "id": "mHEULbcLraC8",
        "outputId": "298d4163-43ef-40c3-d4c9-41459d0721ac"
      },
      "execution_count": null,
      "outputs": [
        {
          "output_type": "execute_result",
          "data": {
            "text/plain": [
              "array([[80, 77, 82, 82, 73, 82, 58, 78,  6, 35],\n",
              "       [82, 57, 82, 79, 76, 72, 60, 72, 79, 80],\n",
              "       [79, 78, 75, 81, 76, 79, 62, 76, 77, 69],\n",
              "       [80, 65, 77, 66, 69, 77, 55, 67, 77, 40],\n",
              "       [82, 82, 82, 79, 82, 78, 54, 76, 71, 41]])"
            ]
          },
          "metadata": {},
          "execution_count": 14
        }
      ]
    },
    {
      "cell_type": "code",
      "source": [
        "Games[0,5]   # zeroth row 5th coloum"
      ],
      "metadata": {
        "colab": {
          "base_uri": "https://localhost:8080/"
        },
        "id": "Gr7TYrXWrsBw",
        "outputId": "33e14fc3-7b5c-4c7c-f6c9-7bbd9dc98f3b"
      },
      "execution_count": null,
      "outputs": [
        {
          "output_type": "execute_result",
          "data": {
            "text/plain": [
              "82"
            ]
          },
          "metadata": {},
          "execution_count": 15
        }
      ]
    },
    {
      "cell_type": "code",
      "source": [
        "Games [1:2]      #prints second row #slicing"
      ],
      "metadata": {
        "colab": {
          "base_uri": "https://localhost:8080/"
        },
        "id": "uXAW5u89r3SB",
        "outputId": "0debe1a7-c9b2-4cb0-d45d-12fd73eeef51"
      },
      "execution_count": null,
      "outputs": [
        {
          "output_type": "execute_result",
          "data": {
            "text/plain": [
              "array([[82, 57, 82, 79, 76, 72, 60, 72, 79, 80]])"
            ]
          },
          "metadata": {},
          "execution_count": 16
        }
      ]
    },
    {
      "cell_type": "code",
      "source": [
        "Games"
      ],
      "metadata": {
        "colab": {
          "base_uri": "https://localhost:8080/"
        },
        "id": "dsvAotYgsLrm",
        "outputId": "85fb9640-15a0-4827-a878-0accbbb6d306"
      },
      "execution_count": null,
      "outputs": [
        {
          "output_type": "execute_result",
          "data": {
            "text/plain": [
              "array([[80, 77, 82, 82, 73, 82, 58, 78,  6, 35],\n",
              "       [82, 57, 82, 79, 76, 72, 60, 72, 79, 80],\n",
              "       [79, 78, 75, 81, 76, 79, 62, 76, 77, 69],\n",
              "       [80, 65, 77, 66, 69, 77, 55, 67, 77, 40],\n",
              "       [82, 82, 82, 79, 82, 78, 54, 76, 71, 41],\n",
              "       [70, 69, 67, 77, 70, 77, 57, 74, 79, 44],\n",
              "       [78, 64, 80, 78, 45, 80, 60, 70, 62, 82],\n",
              "       [35, 35, 80, 74, 82, 78, 66, 81, 81, 27],\n",
              "       [40, 40, 40, 81, 78, 81, 39,  0, 10, 51],\n",
              "       [75, 51, 51, 79, 77, 76, 49, 69, 54, 62]])"
            ]
          },
          "metadata": {},
          "execution_count": 17
        }
      ]
    },
    {
      "cell_type": "code",
      "source": [
        "Games[-3:-1]  # third row:second coloumn"
      ],
      "metadata": {
        "colab": {
          "base_uri": "https://localhost:8080/"
        },
        "id": "7hV7q7TcsUjf",
        "outputId": "2f1a9c6b-e2f0-446f-873c-c8f5d256b4c7"
      },
      "execution_count": null,
      "outputs": [
        {
          "output_type": "execute_result",
          "data": {
            "text/plain": [
              "array([[35, 35, 80, 74, 82, 78, 66, 81, 81, 27],\n",
              "       [40, 40, 40, 81, 78, 81, 39,  0, 10, 51]])"
            ]
          },
          "metadata": {},
          "execution_count": 18
        }
      ]
    },
    {
      "cell_type": "code",
      "source": [
        "Games[-3,-1] #third rowfrom below and -1 value in coloumn"
      ],
      "metadata": {
        "colab": {
          "base_uri": "https://localhost:8080/"
        },
        "id": "0rohvVObsrNI",
        "outputId": "26527d07-e904-42e9-a093-35fe380c28d9"
      },
      "execution_count": null,
      "outputs": [
        {
          "output_type": "execute_result",
          "data": {
            "text/plain": [
              "27"
            ]
          },
          "metadata": {},
          "execution_count": 19
        }
      ]
    },
    {
      "cell_type": "code",
      "source": [
        "Points"
      ],
      "metadata": {
        "colab": {
          "base_uri": "https://localhost:8080/"
        },
        "id": "aE60pLlrs_zw",
        "outputId": "5db9881b-1b71-408d-b0d4-361aa0b9a7e9"
      },
      "execution_count": null,
      "outputs": [
        {
          "output_type": "execute_result",
          "data": {
            "text/plain": [
              "array([[2832, 2430, 2323, 2201, 1970, 2078, 1616, 2133,   83,  782],\n",
              "       [1653, 1426, 1779, 1688, 1619, 1312, 1129, 1170, 1245, 1154],\n",
              "       [2478, 2132, 2250, 2304, 2258, 2111, 1683, 2036, 2089, 1743],\n",
              "       [2122, 1881, 1978, 1504, 1943, 1970, 1245, 1920, 2112,  966],\n",
              "       [1292, 1443, 1695, 1624, 1503, 1784, 1113, 1296, 1297,  646],\n",
              "       [1572, 1561, 1496, 1746, 1678, 1438, 1025, 1232, 1281,  928],\n",
              "       [1258, 1104, 1684, 1781,  841, 1268, 1189, 1186, 1185, 1564],\n",
              "       [ 903,  903, 1624, 1871, 2472, 2161, 1850, 2280, 2593,  686],\n",
              "       [ 597,  597,  597, 1361, 1619, 2026,  852,    0,  159,  904],\n",
              "       [2040, 1397, 1254, 2386, 2045, 1941, 1082, 1463, 1028, 1331]])"
            ]
          },
          "metadata": {},
          "execution_count": 20
        }
      ]
    },
    {
      "cell_type": "code",
      "source": [
        "Points[0]"
      ],
      "metadata": {
        "colab": {
          "base_uri": "https://localhost:8080/"
        },
        "id": "JfZ-BeinthNY",
        "outputId": "2f0582ac-92dd-4820-bb3f-c88d1626135d"
      },
      "execution_count": null,
      "outputs": [
        {
          "output_type": "execute_result",
          "data": {
            "text/plain": [
              "array([2832, 2430, 2323, 2201, 1970, 2078, 1616, 2133,   83,  782])"
            ]
          },
          "metadata": {},
          "execution_count": 21
        }
      ]
    },
    {
      "cell_type": "code",
      "source": [
        "Points[:]"
      ],
      "metadata": {
        "colab": {
          "base_uri": "https://localhost:8080/"
        },
        "id": "ro_dAEGatlX6",
        "outputId": "6dd0e3eb-8981-4958-8ec5-c4c16e816110"
      },
      "execution_count": null,
      "outputs": [
        {
          "output_type": "execute_result",
          "data": {
            "text/plain": [
              "array([[2832, 2430, 2323, 2201, 1970, 2078, 1616, 2133,   83,  782],\n",
              "       [1653, 1426, 1779, 1688, 1619, 1312, 1129, 1170, 1245, 1154],\n",
              "       [2478, 2132, 2250, 2304, 2258, 2111, 1683, 2036, 2089, 1743],\n",
              "       [2122, 1881, 1978, 1504, 1943, 1970, 1245, 1920, 2112,  966],\n",
              "       [1292, 1443, 1695, 1624, 1503, 1784, 1113, 1296, 1297,  646],\n",
              "       [1572, 1561, 1496, 1746, 1678, 1438, 1025, 1232, 1281,  928],\n",
              "       [1258, 1104, 1684, 1781,  841, 1268, 1189, 1186, 1185, 1564],\n",
              "       [ 903,  903, 1624, 1871, 2472, 2161, 1850, 2280, 2593,  686],\n",
              "       [ 597,  597,  597, 1361, 1619, 2026,  852,    0,  159,  904],\n",
              "       [2040, 1397, 1254, 2386, 2045, 1941, 1082, 1463, 1028, 1331]])"
            ]
          },
          "metadata": {},
          "execution_count": 22
        }
      ]
    },
    {
      "cell_type": "code",
      "source": [
        "Points[6,1]"
      ],
      "metadata": {
        "colab": {
          "base_uri": "https://localhost:8080/"
        },
        "id": "ViFROnp2tvOU",
        "outputId": "dce9eee2-6541-40a8-f555-5066f8cce506"
      },
      "execution_count": null,
      "outputs": [
        {
          "output_type": "execute_result",
          "data": {
            "text/plain": [
              "1104"
            ]
          },
          "metadata": {},
          "execution_count": 23
        }
      ]
    },
    {
      "cell_type": "code",
      "source": [
        "Points [-1,-6]"
      ],
      "metadata": {
        "id": "iJGP2lMJunYe",
        "colab": {
          "base_uri": "https://localhost:8080/"
        },
        "outputId": "e4ffebc0-15fa-4087-9d52-bced2fc6c7b1"
      },
      "execution_count": null,
      "outputs": [
        {
          "output_type": "execute_result",
          "data": {
            "text/plain": [
              "2045"
            ]
          },
          "metadata": {},
          "execution_count": 24
        }
      ]
    },
    {
      "cell_type": "code",
      "source": [
        "Points[-6,5]"
      ],
      "metadata": {
        "colab": {
          "base_uri": "https://localhost:8080/"
        },
        "id": "ek1KeNcOvcln",
        "outputId": "bb8713dc-6fd6-436a-a007-de7f7f838541"
      },
      "execution_count": null,
      "outputs": [
        {
          "output_type": "execute_result",
          "data": {
            "text/plain": [
              "1784"
            ]
          },
          "metadata": {},
          "execution_count": 25
        }
      ]
    },
    {
      "cell_type": "code",
      "source": [
        "Games  #games metrix of the players"
      ],
      "metadata": {
        "colab": {
          "base_uri": "https://localhost:8080/"
        },
        "id": "_eInUec3vqWG",
        "outputId": "84385993-cafb-4b43-fa33-9d7d8107e5a0"
      },
      "execution_count": null,
      "outputs": [
        {
          "output_type": "execute_result",
          "data": {
            "text/plain": [
              "array([[80, 77, 82, 82, 73, 82, 58, 78,  6, 35],\n",
              "       [82, 57, 82, 79, 76, 72, 60, 72, 79, 80],\n",
              "       [79, 78, 75, 81, 76, 79, 62, 76, 77, 69],\n",
              "       [80, 65, 77, 66, 69, 77, 55, 67, 77, 40],\n",
              "       [82, 82, 82, 79, 82, 78, 54, 76, 71, 41],\n",
              "       [70, 69, 67, 77, 70, 77, 57, 74, 79, 44],\n",
              "       [78, 64, 80, 78, 45, 80, 60, 70, 62, 82],\n",
              "       [35, 35, 80, 74, 82, 78, 66, 81, 81, 27],\n",
              "       [40, 40, 40, 81, 78, 81, 39,  0, 10, 51],\n",
              "       [75, 51, 51, 79, 77, 76, 49, 69, 54, 62]])"
            ]
          },
          "metadata": {},
          "execution_count": 26
        }
      ]
    },
    {
      "cell_type": "code",
      "source": [
        "Pdict #players dictiionary"
      ],
      "metadata": {
        "colab": {
          "base_uri": "https://localhost:8080/"
        },
        "id": "QMKMjDNIwaHq",
        "outputId": "e54359c2-c0fd-48c2-e1a1-9c9a9e93286c"
      },
      "execution_count": null,
      "outputs": [
        {
          "output_type": "execute_result",
          "data": {
            "text/plain": [
              "{'Sachin': 0,\n",
              " 'Rahul': 1,\n",
              " 'Smith': 2,\n",
              " 'Sami': 3,\n",
              " 'Pollard': 4,\n",
              " 'Morris': 5,\n",
              " 'Samson': 6,\n",
              " 'Dhoni': 7,\n",
              " 'Kohli': 8,\n",
              " 'Sky': 9}"
            ]
          },
          "metadata": {},
          "execution_count": 27
        }
      ]
    },
    {
      "cell_type": "code",
      "source": [
        "Pdict['Sami']"
      ],
      "metadata": {
        "colab": {
          "base_uri": "https://localhost:8080/"
        },
        "id": "K3oajvWcwlU3",
        "outputId": "4f5e4d8b-bae2-424b-d816-a50af00d6600"
      },
      "execution_count": null,
      "outputs": [
        {
          "output_type": "execute_result",
          "data": {
            "text/plain": [
              "3"
            ]
          },
          "metadata": {},
          "execution_count": 28
        }
      ]
    },
    {
      "cell_type": "code",
      "source": [
        "Games[3]"
      ],
      "metadata": {
        "colab": {
          "base_uri": "https://localhost:8080/"
        },
        "id": "XMCUmnXSw0rQ",
        "outputId": "fe88fff8-b60b-447c-ffc3-0c544e4cfbba"
      },
      "execution_count": null,
      "outputs": [
        {
          "output_type": "execute_result",
          "data": {
            "text/plain": [
              "array([80, 65, 77, 66, 69, 77, 55, 67, 77, 40])"
            ]
          },
          "metadata": {},
          "execution_count": 29
        }
      ]
    },
    {
      "cell_type": "code",
      "source": [
        "Games[Pdict['Sami']] #string down 2lines code to 1"
      ],
      "metadata": {
        "colab": {
          "base_uri": "https://localhost:8080/"
        },
        "id": "a3dWLdDfxVQH",
        "outputId": "cb0e422e-e297-46f4-eaf8-2c4f6d5aa2b5"
      },
      "execution_count": null,
      "outputs": [
        {
          "output_type": "execute_result",
          "data": {
            "text/plain": [
              "array([80, 65, 77, 66, 69, 77, 55, 67, 77, 40])"
            ]
          },
          "metadata": {},
          "execution_count": 30
        }
      ]
    },
    {
      "cell_type": "code",
      "source": [
        "Points"
      ],
      "metadata": {
        "colab": {
          "base_uri": "https://localhost:8080/"
        },
        "id": "hy_3Azmhx_vs",
        "outputId": "69df83f4-ea06-4863-fb2b-14511c681e2a"
      },
      "execution_count": null,
      "outputs": [
        {
          "output_type": "execute_result",
          "data": {
            "text/plain": [
              "array([[2832, 2430, 2323, 2201, 1970, 2078, 1616, 2133,   83,  782],\n",
              "       [1653, 1426, 1779, 1688, 1619, 1312, 1129, 1170, 1245, 1154],\n",
              "       [2478, 2132, 2250, 2304, 2258, 2111, 1683, 2036, 2089, 1743],\n",
              "       [2122, 1881, 1978, 1504, 1943, 1970, 1245, 1920, 2112,  966],\n",
              "       [1292, 1443, 1695, 1624, 1503, 1784, 1113, 1296, 1297,  646],\n",
              "       [1572, 1561, 1496, 1746, 1678, 1438, 1025, 1232, 1281,  928],\n",
              "       [1258, 1104, 1684, 1781,  841, 1268, 1189, 1186, 1185, 1564],\n",
              "       [ 903,  903, 1624, 1871, 2472, 2161, 1850, 2280, 2593,  686],\n",
              "       [ 597,  597,  597, 1361, 1619, 2026,  852,    0,  159,  904],\n",
              "       [2040, 1397, 1254, 2386, 2045, 1941, 1082, 1463, 1028, 1331]])"
            ]
          },
          "metadata": {},
          "execution_count": 31
        }
      ]
    },
    {
      "cell_type": "code",
      "source": [
        "Salary"
      ],
      "metadata": {
        "colab": {
          "base_uri": "https://localhost:8080/"
        },
        "id": "8zE4Ky2ByDD0",
        "outputId": "ab6e49e0-2871-4e26-d688-7d74388a7482"
      },
      "execution_count": null,
      "outputs": [
        {
          "output_type": "execute_result",
          "data": {
            "text/plain": [
              "array([[15946875, 17718750, 19490625, 21262500, 23034375, 24806250,\n",
              "        25244493, 27849149, 30453805, 23500000],\n",
              "       [12000000, 12744189, 13488377, 14232567, 14976754, 16324500,\n",
              "        18038573, 19752645, 21466718, 23180790],\n",
              "       [ 4621800,  5828090, 13041250, 14410581, 15779912, 14500000,\n",
              "        16022500, 17545000, 19067500, 20644400],\n",
              "       [ 3713640,  4694041, 13041250, 14410581, 15779912, 17149243,\n",
              "        18518574, 19450000, 22407474, 22458000],\n",
              "       [ 4493160,  4806720,  6061274, 13758000, 15202590, 16647180,\n",
              "        18091770, 19536360, 20513178, 21436271],\n",
              "       [ 3348000,  4235220, 12455000, 14410581, 15779912, 14500000,\n",
              "        16022500, 17545000, 19067500, 20644400],\n",
              "       [ 3144240,  3380160,  3615960,  4574189, 13520500, 14940153,\n",
              "        16359805, 17779458, 18668431, 20068563],\n",
              "       [       0,        0,  4171200,  4484040,  4796880,  6053663,\n",
              "        15506632, 16669630, 17832627, 18995624],\n",
              "       [       0,        0,        0,  4822800,  5184480,  5546160,\n",
              "         6993708, 16402500, 17632688, 18862875],\n",
              "       [ 3031920,  3841443, 13041250, 14410581, 15779912, 14200000,\n",
              "        15691000, 17182000, 18673000, 15000000]])"
            ]
          },
          "metadata": {},
          "execution_count": 32
        }
      ]
    },
    {
      "cell_type": "code",
      "source": [
        "Salary/Games"
      ],
      "metadata": {
        "colab": {
          "base_uri": "https://localhost:8080/"
        },
        "id": "3g_UyCtJyd1t",
        "outputId": "3bd85a75-ff62-47a4-f3fe-468687ab45ef"
      },
      "execution_count": null,
      "outputs": [
        {
          "output_type": "stream",
          "name": "stderr",
          "text": [
            "<ipython-input-33-f32b113131f8>:1: RuntimeWarning: divide by zero encountered in divide\n",
            "  Salary/Games\n"
          ]
        },
        {
          "output_type": "execute_result",
          "data": {
            "text/plain": [
              "array([[ 199335.9375    ,  230113.63636364,  237690.54878049,\n",
              "         259298.7804878 ,  315539.38356164,  302515.24390244,\n",
              "         435249.87931034,  357040.37179487, 5075634.16666667,\n",
              "         671428.57142857],\n",
              "       [ 146341.46341463,  223582.26315789,  164492.40243902,\n",
              "         180159.07594937,  197062.55263158,  226729.16666667,\n",
              "         300642.88333333,  274342.29166667,  271730.60759494,\n",
              "         289759.875     ],\n",
              "       [  58503.79746835,   74719.1025641 ,  173883.33333333,\n",
              "         177908.40740741,  207630.42105263,  183544.30379747,\n",
              "         258427.41935484,  230855.26315789,  247629.87012987,\n",
              "         299194.20289855],\n",
              "       [  46420.5       ,   72216.01538462,  169366.88311688,\n",
              "         218342.13636364,  228694.37681159,  222717.44155844,\n",
              "         336701.34545455,  290298.50746269,  291006.15584416,\n",
              "         561450.        ],\n",
              "       [  54794.63414634,   58618.53658537,   73917.97560976,\n",
              "         174151.89873418,  185397.43902439,  213425.38461538,\n",
              "         335032.77777778,  257057.36842105,  288918.        ,\n",
              "         522835.87804878],\n",
              "       [  47828.57142857,   61380.        ,  185895.52238806,\n",
              "         187150.4025974 ,  225427.31428571,  188311.68831169,\n",
              "         281096.49122807,  237094.59459459,  241360.75949367,\n",
              "         469190.90909091],\n",
              "       [  40310.76923077,   52815.        ,   45199.5       ,\n",
              "          58643.44871795,  300455.55555556,  186751.9125    ,\n",
              "         272663.41666667,  253992.25714286,  301103.72580645,\n",
              "         244738.57317073],\n",
              "       [      0.        ,       0.        ,   52140.        ,\n",
              "          60595.13513514,   58498.53658537,   77611.06410256,\n",
              "         234948.96969697,  205797.90123457,  220155.88888889,\n",
              "         703541.62962963],\n",
              "       [      0.        ,       0.        ,       0.        ,\n",
              "          59540.74074074,   66467.69230769,   68471.11111111,\n",
              "         179325.84615385,              inf, 1763268.8       ,\n",
              "         369860.29411765],\n",
              "       [  40425.6       ,   75322.41176471,  255710.78431373,\n",
              "         182412.41772152,  204933.92207792,  186842.10526316,\n",
              "         320224.48979592,  249014.49275362,  345796.2962963 ,\n",
              "         241935.48387097]])"
            ]
          },
          "metadata": {},
          "execution_count": 33
        }
      ]
    },
    {
      "cell_type": "code",
      "source": [
        "np.round(Salary/Games)"
      ],
      "metadata": {
        "colab": {
          "base_uri": "https://localhost:8080/"
        },
        "id": "cNj7UEPTyq_8",
        "outputId": "019c62f4-e032-4bfa-d6fb-22cc1cdf9efc"
      },
      "execution_count": null,
      "outputs": [
        {
          "output_type": "stream",
          "name": "stderr",
          "text": [
            "<ipython-input-34-c0cc7840a886>:1: RuntimeWarning: divide by zero encountered in divide\n",
            "  np.round(Salary/Games)\n"
          ]
        },
        {
          "output_type": "execute_result",
          "data": {
            "text/plain": [
              "array([[ 199336.,  230114.,  237691.,  259299.,  315539.,  302515.,\n",
              "         435250.,  357040., 5075634.,  671429.],\n",
              "       [ 146341.,  223582.,  164492.,  180159.,  197063.,  226729.,\n",
              "         300643.,  274342.,  271731.,  289760.],\n",
              "       [  58504.,   74719.,  173883.,  177908.,  207630.,  183544.,\n",
              "         258427.,  230855.,  247630.,  299194.],\n",
              "       [  46420.,   72216.,  169367.,  218342.,  228694.,  222717.,\n",
              "         336701.,  290299.,  291006.,  561450.],\n",
              "       [  54795.,   58619.,   73918.,  174152.,  185397.,  213425.,\n",
              "         335033.,  257057.,  288918.,  522836.],\n",
              "       [  47829.,   61380.,  185896.,  187150.,  225427.,  188312.,\n",
              "         281096.,  237095.,  241361.,  469191.],\n",
              "       [  40311.,   52815.,   45200.,   58643.,  300456.,  186752.,\n",
              "         272663.,  253992.,  301104.,  244739.],\n",
              "       [      0.,       0.,   52140.,   60595.,   58499.,   77611.,\n",
              "         234949.,  205798.,  220156.,  703542.],\n",
              "       [      0.,       0.,       0.,   59541.,   66468.,   68471.,\n",
              "         179326.,      inf, 1763269.,  369860.],\n",
              "       [  40426.,   75322.,  255711.,  182412.,  204934.,  186842.,\n",
              "         320224.,  249014.,  345796.,  241935.]])"
            ]
          },
          "metadata": {},
          "execution_count": 34
        }
      ]
    },
    {
      "cell_type": "code",
      "source": [
        "np.round(Salary//Games)"
      ],
      "metadata": {
        "colab": {
          "base_uri": "https://localhost:8080/"
        },
        "id": "pMIluImnzAqd",
        "outputId": "6418b349-b234-4687-e322-a5fc07191570"
      },
      "execution_count": null,
      "outputs": [
        {
          "output_type": "stream",
          "name": "stderr",
          "text": [
            "<ipython-input-35-8e3f721deeaf>:1: RuntimeWarning: divide by zero encountered in floor_divide\n",
            "  np.round(Salary//Games)\n"
          ]
        },
        {
          "output_type": "execute_result",
          "data": {
            "text/plain": [
              "array([[ 199335,  230113,  237690,  259298,  315539,  302515,  435249,\n",
              "         357040, 5075634,  671428],\n",
              "       [ 146341,  223582,  164492,  180159,  197062,  226729,  300642,\n",
              "         274342,  271730,  289759],\n",
              "       [  58503,   74719,  173883,  177908,  207630,  183544,  258427,\n",
              "         230855,  247629,  299194],\n",
              "       [  46420,   72216,  169366,  218342,  228694,  222717,  336701,\n",
              "         290298,  291006,  561450],\n",
              "       [  54794,   58618,   73917,  174151,  185397,  213425,  335032,\n",
              "         257057,  288918,  522835],\n",
              "       [  47828,   61380,  185895,  187150,  225427,  188311,  281096,\n",
              "         237094,  241360,  469190],\n",
              "       [  40310,   52815,   45199,   58643,  300455,  186751,  272663,\n",
              "         253992,  301103,  244738],\n",
              "       [      0,       0,   52140,   60595,   58498,   77611,  234948,\n",
              "         205797,  220155,  703541],\n",
              "       [      0,       0,       0,   59540,   66467,   68471,  179325,\n",
              "              0, 1763268,  369860],\n",
              "       [  40425,   75322,  255710,  182412,  204933,  186842,  320224,\n",
              "         249014,  345796,  241935]])"
            ]
          },
          "metadata": {},
          "execution_count": 35
        }
      ]
    },
    {
      "cell_type": "code",
      "source": [
        "import warnings                      #ignoring errors\n",
        "filter.warnings('ignore')"
      ],
      "metadata": {
        "colab": {
          "base_uri": "https://localhost:8080/",
          "height": 158
        },
        "id": "mQY66c0GzQOb",
        "outputId": "d4b91423-2ea5-474d-f005-9ad9570cd5b7"
      },
      "execution_count": null,
      "outputs": [
        {
          "output_type": "error",
          "ename": "AttributeError",
          "evalue": "type object 'filter' has no attribute 'warnings'",
          "traceback": [
            "\u001b[0;31m---------------------------------------------------------------------------\u001b[0m",
            "\u001b[0;31mAttributeError\u001b[0m                            Traceback (most recent call last)",
            "\u001b[0;32m<ipython-input-37-4f8e3d17709f>\u001b[0m in \u001b[0;36m<cell line: 0>\u001b[0;34m()\u001b[0m\n\u001b[1;32m      1\u001b[0m \u001b[0;32mimport\u001b[0m \u001b[0mwarnings\u001b[0m\u001b[0;34m\u001b[0m\u001b[0;34m\u001b[0m\u001b[0m\n\u001b[0;32m----> 2\u001b[0;31m \u001b[0mfilter\u001b[0m\u001b[0;34m.\u001b[0m\u001b[0mwarnings\u001b[0m\u001b[0;34m(\u001b[0m\u001b[0;34m'ignore'\u001b[0m\u001b[0;34m)\u001b[0m\u001b[0;34m\u001b[0m\u001b[0;34m\u001b[0m\u001b[0m\n\u001b[0m",
            "\u001b[0;31mAttributeError\u001b[0m: type object 'filter' has no attribute 'warnings'"
          ]
        }
      ]
    },
    {
      "cell_type": "code",
      "source": [
        "import matplotlib.pyplot as plt #Graphs developed using data\n"
      ],
      "metadata": {
        "id": "rVmW9RQPz5uX"
      },
      "execution_count": null,
      "outputs": []
    },
    {
      "cell_type": "code",
      "source": [
        "Salary"
      ],
      "metadata": {
        "colab": {
          "base_uri": "https://localhost:8080/"
        },
        "id": "EQD06PLj0FsJ",
        "outputId": "e634a4b8-d53d-4a14-c665-6241e440ff55"
      },
      "execution_count": null,
      "outputs": [
        {
          "output_type": "execute_result",
          "data": {
            "text/plain": [
              "array([[15946875, 17718750, 19490625, 21262500, 23034375, 24806250,\n",
              "        25244493, 27849149, 30453805, 23500000],\n",
              "       [12000000, 12744189, 13488377, 14232567, 14976754, 16324500,\n",
              "        18038573, 19752645, 21466718, 23180790],\n",
              "       [ 4621800,  5828090, 13041250, 14410581, 15779912, 14500000,\n",
              "        16022500, 17545000, 19067500, 20644400],\n",
              "       [ 3713640,  4694041, 13041250, 14410581, 15779912, 17149243,\n",
              "        18518574, 19450000, 22407474, 22458000],\n",
              "       [ 4493160,  4806720,  6061274, 13758000, 15202590, 16647180,\n",
              "        18091770, 19536360, 20513178, 21436271],\n",
              "       [ 3348000,  4235220, 12455000, 14410581, 15779912, 14500000,\n",
              "        16022500, 17545000, 19067500, 20644400],\n",
              "       [ 3144240,  3380160,  3615960,  4574189, 13520500, 14940153,\n",
              "        16359805, 17779458, 18668431, 20068563],\n",
              "       [       0,        0,  4171200,  4484040,  4796880,  6053663,\n",
              "        15506632, 16669630, 17832627, 18995624],\n",
              "       [       0,        0,        0,  4822800,  5184480,  5546160,\n",
              "         6993708, 16402500, 17632688, 18862875],\n",
              "       [ 3031920,  3841443, 13041250, 14410581, 15779912, 14200000,\n",
              "        15691000, 17182000, 18673000, 15000000]])"
            ]
          },
          "metadata": {},
          "execution_count": 39
        }
      ]
    },
    {
      "cell_type": "code",
      "source": [
        "Salary[0]"
      ],
      "metadata": {
        "colab": {
          "base_uri": "https://localhost:8080/"
        },
        "id": "Vi6H9WRM0jk4",
        "outputId": "b21c97a7-77e3-4e7b-dd19-c1d95b3f6662"
      },
      "execution_count": null,
      "outputs": [
        {
          "output_type": "execute_result",
          "data": {
            "text/plain": [
              "array([15946875, 17718750, 19490625, 21262500, 23034375, 24806250,\n",
              "       25244493, 27849149, 30453805, 23500000])"
            ]
          },
          "metadata": {},
          "execution_count": 40
        }
      ]
    },
    {
      "cell_type": "code",
      "source": [
        "plt.plot(Salary[0])\n",
        "plt.show"
      ],
      "metadata": {
        "colab": {
          "base_uri": "https://localhost:8080/",
          "height": 614
        },
        "id": "BmR7pwh90sOq",
        "outputId": "1dbb10f8-9bc6-4a49-d6d8-e26880a99db1"
      },
      "execution_count": null,
      "outputs": [
        {
          "output_type": "execute_result",
          "data": {
            "text/plain": [
              "<function matplotlib.pyplot.show(close=None, block=None)>"
            ],
            "text/html": [
              "<div style=\"max-width:800px; border: 1px solid var(--colab-border-color);\"><style>\n",
              "      pre.function-repr-contents {\n",
              "        overflow-x: auto;\n",
              "        padding: 8px 12px;\n",
              "        max-height: 500px;\n",
              "      }\n",
              "\n",
              "      pre.function-repr-contents.function-repr-contents-collapsed {\n",
              "        cursor: pointer;\n",
              "        max-height: 100px;\n",
              "      }\n",
              "    </style>\n",
              "    <pre style=\"white-space: initial; background:\n",
              "         var(--colab-secondary-surface-color); padding: 8px 12px;\n",
              "         border-bottom: 1px solid var(--colab-border-color);\"><b>matplotlib.pyplot.show</b><br/>def show(*args, **kwargs) -&gt; None</pre><pre class=\"function-repr-contents function-repr-contents-collapsed\" style=\"\"><a class=\"filepath\" style=\"display:none\" href=\"#\">/usr/local/lib/python3.11/dist-packages/matplotlib/pyplot.py</a>Display all open figures.\n",
              "\n",
              "Parameters\n",
              "----------\n",
              "block : bool, optional\n",
              "    Whether to wait for all figures to be closed before returning.\n",
              "\n",
              "    If `True` block and run the GUI main loop until all figure windows\n",
              "    are closed.\n",
              "\n",
              "    If `False` ensure that all figure windows are displayed and return\n",
              "    immediately.  In this case, you are responsible for ensuring\n",
              "    that the event loop is running to have responsive figures.\n",
              "\n",
              "    Defaults to True in non-interactive mode and to False in interactive\n",
              "    mode (see `.pyplot.isinteractive`).\n",
              "\n",
              "See Also\n",
              "--------\n",
              "ion : Enable interactive mode, which shows / updates the figure after\n",
              "      every plotting command, so that calling ``show()`` is not necessary.\n",
              "ioff : Disable interactive mode.\n",
              "savefig : Save the figure to an image file instead of showing it on screen.\n",
              "\n",
              "Notes\n",
              "-----\n",
              "**Saving figures to file and showing a window at the same time**\n",
              "\n",
              "If you want an image file as well as a user interface window, use\n",
              "`.pyplot.savefig` before `.pyplot.show`. At the end of (a blocking)\n",
              "``show()`` the figure is closed and thus unregistered from pyplot. Calling\n",
              "`.pyplot.savefig` afterwards would save a new and thus empty figure. This\n",
              "limitation of command order does not apply if the show is non-blocking or\n",
              "if you keep a reference to the figure and use `.Figure.savefig`.\n",
              "\n",
              "**Auto-show in jupyter notebooks**\n",
              "\n",
              "The jupyter backends (activated via ``%matplotlib inline``,\n",
              "``%matplotlib notebook``, or ``%matplotlib widget``), call ``show()`` at\n",
              "the end of every cell by default. Thus, you usually don&#x27;t have to call it\n",
              "explicitly there.</pre>\n",
              "      <script>\n",
              "      if (google.colab.kernel.accessAllowed && google.colab.files && google.colab.files.view) {\n",
              "        for (const element of document.querySelectorAll('.filepath')) {\n",
              "          element.style.display = 'block'\n",
              "          element.onclick = (event) => {\n",
              "            event.preventDefault();\n",
              "            event.stopPropagation();\n",
              "            google.colab.files.view(element.textContent, 569);\n",
              "          };\n",
              "        }\n",
              "      }\n",
              "      for (const element of document.querySelectorAll('.function-repr-contents')) {\n",
              "        element.onclick = (event) => {\n",
              "          event.preventDefault();\n",
              "          event.stopPropagation();\n",
              "          element.classList.toggle('function-repr-contents-collapsed');\n",
              "        };\n",
              "      }\n",
              "      </script>\n",
              "      </div>"
            ]
          },
          "metadata": {},
          "execution_count": 41
        },
        {
          "output_type": "display_data",
          "data": {
            "text/plain": [
              "<Figure size 640x480 with 1 Axes>"
            ],
            "image/png": "[encoded data removed]"
          },
          "metadata": {}
        }
      ]
    },
    {
      "cell_type": "code",
      "source": [
        "plt.plot(Salary[0],color='black')\n",
        "plt.show"
      ],
      "metadata": {
        "colab": {
          "base_uri": "https://localhost:8080/",
          "height": 614
        },
        "id": "gwOyXcrCgMHo",
        "outputId": "ff0462fd-6a56-42db-a227-bb3176323ae3"
      },
      "execution_count": null,
      "outputs": [
        {
          "output_type": "execute_result",
          "data": {
            "text/plain": [
              "<function matplotlib.pyplot.show(close=None, block=None)>"
            ],
            "text/html": [
              "<div style=\"max-width:800px; border: 1px solid var(--colab-border-color);\"><style>\n",
              "      pre.function-repr-contents {\n",
              "        overflow-x: auto;\n",
              "        padding: 8px 12px;\n",
              "        max-height: 500px;\n",
              "      }\n",
              "\n",
              "      pre.function-repr-contents.function-repr-contents-collapsed {\n",
              "        cursor: pointer;\n",
              "        max-height: 100px;\n",
              "      }\n",
              "    </style>\n",
              "    <pre style=\"white-space: initial; background:\n",
              "         var(--colab-secondary-surface-color); padding: 8px 12px;\n",
              "         border-bottom: 1px solid var(--colab-border-color);\"><b>matplotlib.pyplot.show</b><br/>def show(*args, **kwargs) -&gt; None</pre><pre class=\"function-repr-contents function-repr-contents-collapsed\" style=\"\"><a class=\"filepath\" style=\"display:none\" href=\"#\">/usr/local/lib/python3.11/dist-packages/matplotlib/pyplot.py</a>Display all open figures.\n",
              "\n",
              "Parameters\n",
              "----------\n",
              "block : bool, optional\n",
              "    Whether to wait for all figures to be closed before returning.\n",
              "\n",
              "    If `True` block and run the GUI main loop until all figure windows\n",
              "    are closed.\n",
              "\n",
              "    If `False` ensure that all figure windows are displayed and return\n",
              "    immediately.  In this case, you are responsible for ensuring\n",
              "    that the event loop is running to have responsive figures.\n",
              "\n",
              "    Defaults to True in non-interactive mode and to False in interactive\n",
              "    mode (see `.pyplot.isinteractive`).\n",
              "\n",
              "See Also\n",
              "--------\n",
              "ion : Enable interactive mode, which shows / updates the figure after\n",
              "      every plotting command, so that calling ``show()`` is not necessary.\n",
              "ioff : Disable interactive mode.\n",
              "savefig : Save the figure to an image file instead of showing it on screen.\n",
              "\n",
              "Notes\n",
              "-----\n",
              "**Saving figures to file and showing a window at the same time**\n",
              "\n",
              "If you want an image file as well as a user interface window, use\n",
              "`.pyplot.savefig` before `.pyplot.show`. At the end of (a blocking)\n",
              "``show()`` the figure is closed and thus unregistered from pyplot. Calling\n",
              "`.pyplot.savefig` afterwards would save a new and thus empty figure. This\n",
              "limitation of command order does not apply if the show is non-blocking or\n",
              "if you keep a reference to the figure and use `.Figure.savefig`.\n",
              "\n",
              "**Auto-show in jupyter notebooks**\n",
              "\n",
              "The jupyter backends (activated via ``%matplotlib inline``,\n",
              "``%matplotlib notebook``, or ``%matplotlib widget``), call ``show()`` at\n",
              "the end of every cell by default. Thus, you usually don&#x27;t have to call it\n",
              "explicitly there.</pre>\n",
              "      <script>\n",
              "      if (google.colab.kernel.accessAllowed && google.colab.files && google.colab.files.view) {\n",
              "        for (const element of document.querySelectorAll('.filepath')) {\n",
              "          element.style.display = 'block'\n",
              "          element.onclick = (event) => {\n",
              "            event.preventDefault();\n",
              "            event.stopPropagation();\n",
              "            google.colab.files.view(element.textContent, 569);\n",
              "          };\n",
              "        }\n",
              "      }\n",
              "      for (const element of document.querySelectorAll('.function-repr-contents')) {\n",
              "        element.onclick = (event) => {\n",
              "          event.preventDefault();\n",
              "          event.stopPropagation();\n",
              "          element.classList.toggle('function-repr-contents-collapsed');\n",
              "        };\n",
              "      }\n",
              "      </script>\n",
              "      </div>"
            ]
          },
          "metadata": {},
          "execution_count": 43
        },
        {
          "output_type": "display_data",
          "data": {
            "text/plain": [
              "<Figure size 640x480 with 1 Axes>"
            ],
            "image/png": "[encoded data removed]"
          },
          "metadata": {}
        }
      ]
    },
    {
      "cell_type": "code",
      "source": [
        "plt.plot(Salary[0],c='k')    #color -c  #black-k"
      ],
      "metadata": {
        "colab": {
          "base_uri": "https://localhost:8080/",
          "height": 462
        },
        "id": "j-fT2HuJhoA2",
        "outputId": "68fc3263-c9d2-45e1-d002-fa5f1c3b9741"
      },
      "execution_count": null,
      "outputs": [
        {
          "output_type": "execute_result",
          "data": {
            "text/plain": [
              "[<matplotlib.lines.Line2D at 0x787681f69c90>]"
            ]
          },
          "metadata": {},
          "execution_count": 44
        },
        {
          "output_type": "display_data",
          "data": {
            "text/plain": [
              "<Figure size 640x480 with 1 Axes>"
            ],
            "image/png": "[encoded data removed]"
          },
          "metadata": {}
        }
      ]
    },
    {
      "cell_type": "code",
      "source": [
        "plt.plot(Salary[0],c='r')"
      ],
      "metadata": {
        "colab": {
          "base_uri": "https://localhost:8080/",
          "height": 462
        },
        "id": "_rXp-9ZZh-d1",
        "outputId": "0fb5b115-9aa3-4469-ce37-0fae8c09b628"
      },
      "execution_count": null,
      "outputs": [
        {
          "output_type": "execute_result",
          "data": {
            "text/plain": [
              "[<matplotlib.lines.Line2D at 0x787681fd2f90>]"
            ]
          },
          "metadata": {},
          "execution_count": 45
        },
        {
          "output_type": "display_data",
          "data": {
            "text/plain": [
              "<Figure size 640x480 with 1 Axes>"
            ],
            "image/png": "[encoded data removed]"
          },
          "metadata": {}
        }
      ]
    },
    {
      "cell_type": "code",
      "source": [
        "plt.plot(Salary[0],c='r', ls = '--' ) #ls shape of insight parameters"
      ],
      "metadata": {
        "colab": {
          "base_uri": "https://localhost:8080/",
          "height": 462
        },
        "id": "v6dv_B1NiNIS",
        "outputId": "09da7c62-f578-4722-8035-6e2777f41241"
      },
      "execution_count": null,
      "outputs": [
        {
          "output_type": "execute_result",
          "data": {
            "text/plain": [
              "[<matplotlib.lines.Line2D at 0x787681c6e810>]"
            ]
          },
          "metadata": {},
          "execution_count": 46
        },
        {
          "output_type": "display_data",
          "data": {
            "text/plain": [
              "<Figure size 640x480 with 1 Axes>"
            ],
            "image/png": "[encoded data removed]"
          },
          "metadata": {}
        }
      ]
    },
    {
      "cell_type": "code",
      "source": [
        "plt.plot(Salary[0],c='r', ls = 'dotted' )"
      ],
      "metadata": {
        "colab": {
          "base_uri": "https://localhost:8080/",
          "height": 462
        },
        "id": "x19SFFLZi398",
        "outputId": "b74a96ef-e802-4187-9ec6-e23d424617b5"
      },
      "execution_count": null,
      "outputs": [
        {
          "output_type": "execute_result",
          "data": {
            "text/plain": [
              "[<matplotlib.lines.Line2D at 0x78766cd48ad0>]"
            ]
          },
          "metadata": {},
          "execution_count": 47
        },
        {
          "output_type": "display_data",
          "data": {
            "text/plain": [
              "<Figure size 640x480 with 1 Axes>"
            ],
            "image/png": "[encoded data removed]"
          },
          "metadata": {}
        }
      ]
    },
    {
      "cell_type": "code",
      "source": [
        "%matplotlib inline\n",
        "plt.rcParams['figure.figsize'] = 7,3 # 7 width 3 height  #alter the graph size"
      ],
      "metadata": {
        "id": "qK6EyZDXjdG5"
      },
      "execution_count": null,
      "outputs": []
    },
    {
      "cell_type": "code",
      "source": [
        "plt.plot(Salary[0],c='b', ls = '--' )"
      ],
      "metadata": {
        "colab": {
          "base_uri": "https://localhost:8080/",
          "height": 323
        },
        "id": "1CdylhK4kcN0",
        "outputId": "1399746c-a457-467a-b6b7-aa913aed48d8"
      },
      "execution_count": null,
      "outputs": [
        {
          "output_type": "execute_result",
          "data": {
            "text/plain": [
              "[<matplotlib.lines.Line2D at 0x78764b120b50>]"
            ]
          },
          "metadata": {},
          "execution_count": 51
        },
        {
          "output_type": "display_data",
          "data": {
            "text/plain": [
              "<Figure size 700x300 with 1 Axes>"
            ],
            "image/png": "[encoded data removed]"
          },
          "metadata": {}
        }
      ]
    },
    {
      "cell_type": "code",
      "source": [
        "%matplotlib inline\n",
        "plt.rcParams['figure.figsize'] = 8,3"
      ],
      "metadata": {
        "id": "wRECGwIxpccq"
      },
      "execution_count": null,
      "outputs": []
    },
    {
      "cell_type": "code",
      "source": [
        "plt.plot(Salary[0],c='b', ls = '--' )"
      ],
      "metadata": {
        "colab": {
          "base_uri": "https://localhost:8080/",
          "height": 305
        },
        "id": "zv8P0nVIp55e",
        "outputId": "2ab6c1eb-f78f-43d9-ec79-ee71c7417137"
      },
      "execution_count": null,
      "outputs": [
        {
          "output_type": "execute_result",
          "data": {
            "text/plain": [
              "[<matplotlib.lines.Line2D at 0x787649f60a50>]"
            ]
          },
          "metadata": {},
          "execution_count": 54
        },
        {
          "output_type": "display_data",
          "data": {
            "text/plain": [
              "<Figure size 800x300 with 1 Axes>"
            ],
            "image/png": "[encoded data removed]"
          },
          "metadata": {}
        }
      ]
    },
    {
      "cell_type": "code",
      "source": [
        "plt.plot(Salary[0],c='b', ls = '--' ,marker='o')"
      ],
      "metadata": {
        "colab": {
          "base_uri": "https://localhost:8080/",
          "height": 305
        },
        "id": "lXHK-QnSqKJX",
        "outputId": "195ab9d0-7588-4e1e-816c-611a41976821"
      },
      "execution_count": null,
      "outputs": [
        {
          "output_type": "execute_result",
          "data": {
            "text/plain": [
              "[<matplotlib.lines.Line2D at 0x787648f68dd0>]"
            ]
          },
          "metadata": {},
          "execution_count": 56
        },
        {
          "output_type": "display_data",
          "data": {
            "text/plain": [
              "<Figure size 800x300 with 1 Axes>"
            ],
            "image/png": "[encoded data removed]"
          },
          "metadata": {}
        }
      ]
    },
    {
      "cell_type": "code",
      "source": [
        "plt.plot(Salary[0],c='g', ls = '--' ,marker='s',ms=5)  #ms marker size  marker=s s is shape square o circle d diagonal"
      ],
      "metadata": {
        "colab": {
          "base_uri": "https://localhost:8080/",
          "height": 305
        },
        "id": "XO-O7OHYqmE0",
        "outputId": "068f5f48-a5a0-4a9b-9c60-2956d51def13"
      },
      "execution_count": null,
      "outputs": [
        {
          "output_type": "execute_result",
          "data": {
            "text/plain": [
              "[<matplotlib.lines.Line2D at 0x7876491eee10>]"
            ]
          },
          "metadata": {},
          "execution_count": 57
        },
        {
          "output_type": "display_data",
          "data": {
            "text/plain": [
              "<Figure size 800x300 with 1 Axes>"
            ],
            "image/png": "[encoded data removed]"
          },
          "metadata": {}
        }
      ]
    },
    {
      "cell_type": "code",
      "source": [],
      "metadata": {
        "id": "ER-y_lZ27Qz7"
      },
      "execution_count": null,
      "outputs": []
    }
  ]
}